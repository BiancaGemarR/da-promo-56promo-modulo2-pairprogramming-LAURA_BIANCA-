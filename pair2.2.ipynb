{
 "cells": [
  {
   "cell_type": "code",
   "execution_count": 1,
   "id": "7e7072eb",
   "metadata": {},
   "outputs": [],
   "source": [
    "import requests\n",
    "import pandas as pd"
   ]
  },
  {
   "cell_type": "code",
   "execution_count": 6,
   "id": "827c9b86",
   "metadata": {},
   "outputs": [],
   "source": [
    "df = pd.read_json(\"personal.json\")"
   ]
  },
  {
   "cell_type": "code",
   "execution_count": 7,
   "id": "b4da228e",
   "metadata": {},
   "outputs": [
    {
     "data": {
      "text/html": [
       "<div>\n",
       "<style scoped>\n",
       "    .dataframe tbody tr th:only-of-type {\n",
       "        vertical-align: middle;\n",
       "    }\n",
       "\n",
       "    .dataframe tbody tr th {\n",
       "        vertical-align: top;\n",
       "    }\n",
       "\n",
       "    .dataframe thead th {\n",
       "        text-align: right;\n",
       "    }\n",
       "</style>\n",
       "<table border=\"1\" class=\"dataframe\">\n",
       "  <thead>\n",
       "    <tr style=\"text-align: right;\">\n",
       "      <th></th>\n",
       "      <th>workers</th>\n",
       "    </tr>\n",
       "  </thead>\n",
       "  <tbody>\n",
       "    <tr>\n",
       "      <th>0</th>\n",
       "      <td>{'nombre': 'Ana', 'edad': 34, 'experiencia': 5...</td>\n",
       "    </tr>\n",
       "    <tr>\n",
       "      <th>1</th>\n",
       "      <td>{'nombre': 'Eva', 'edad': 37, 'experiencia': 2...</td>\n",
       "    </tr>\n",
       "    <tr>\n",
       "      <th>2</th>\n",
       "      <td>{'nombre': 'Marta', 'edad': 27, 'experiencia':...</td>\n",
       "    </tr>\n",
       "    <tr>\n",
       "      <th>3</th>\n",
       "      <td>{'nombre': 'Paula', 'edad': 30, 'experiencia':...</td>\n",
       "    </tr>\n",
       "  </tbody>\n",
       "</table>\n",
       "</div>"
      ],
      "text/plain": [
       "                                             workers\n",
       "0  {'nombre': 'Ana', 'edad': 34, 'experiencia': 5...\n",
       "1  {'nombre': 'Eva', 'edad': 37, 'experiencia': 2...\n",
       "2  {'nombre': 'Marta', 'edad': 27, 'experiencia':...\n",
       "3  {'nombre': 'Paula', 'edad': 30, 'experiencia':..."
      ]
     },
     "execution_count": 7,
     "metadata": {},
     "output_type": "execute_result"
    }
   ],
   "source": [
    "df"
   ]
  },
  {
   "cell_type": "code",
   "execution_count": 8,
   "id": "c56ffa45",
   "metadata": {},
   "outputs": [],
   "source": [
    "df.to_csv(\"personal.csv\")"
   ]
  },
  {
   "cell_type": "code",
   "execution_count": 12,
   "id": "5302764c",
   "metadata": {},
   "outputs": [
    {
     "data": {
      "text/html": [
       "<div>\n",
       "<style scoped>\n",
       "    .dataframe tbody tr th:only-of-type {\n",
       "        vertical-align: middle;\n",
       "    }\n",
       "\n",
       "    .dataframe tbody tr th {\n",
       "        vertical-align: top;\n",
       "    }\n",
       "\n",
       "    .dataframe thead th {\n",
       "        text-align: right;\n",
       "    }\n",
       "</style>\n",
       "<table border=\"1\" class=\"dataframe\">\n",
       "  <thead>\n",
       "    <tr style=\"text-align: right;\">\n",
       "      <th></th>\n",
       "      <th>workers</th>\n",
       "    </tr>\n",
       "  </thead>\n",
       "  <tbody>\n",
       "    <tr>\n",
       "      <th>0</th>\n",
       "      <td>{'nombre': 'Ana', 'edad': 34, 'experiencia': 5...</td>\n",
       "    </tr>\n",
       "    <tr>\n",
       "      <th>1</th>\n",
       "      <td>{'nombre': 'Eva', 'edad': 37, 'experiencia': 2...</td>\n",
       "    </tr>\n",
       "    <tr>\n",
       "      <th>2</th>\n",
       "      <td>{'nombre': 'Marta', 'edad': 27, 'experiencia':...</td>\n",
       "    </tr>\n",
       "    <tr>\n",
       "      <th>3</th>\n",
       "      <td>{'nombre': 'Paula', 'edad': 30, 'experiencia':...</td>\n",
       "    </tr>\n",
       "  </tbody>\n",
       "</table>\n",
       "</div>"
      ],
      "text/plain": [
       "                                             workers\n",
       "0  {'nombre': 'Ana', 'edad': 34, 'experiencia': 5...\n",
       "1  {'nombre': 'Eva', 'edad': 37, 'experiencia': 2...\n",
       "2  {'nombre': 'Marta', 'edad': 27, 'experiencia':...\n",
       "3  {'nombre': 'Paula', 'edad': 30, 'experiencia':..."
      ]
     },
     "execution_count": 12,
     "metadata": {},
     "output_type": "execute_result"
    }
   ],
   "source": [
    "df"
   ]
  },
  {
   "cell_type": "code",
   "execution_count": 13,
   "id": "ca62f002",
   "metadata": {},
   "outputs": [],
   "source": [
    "df.to_excel(\"personal.xlsx\")"
   ]
  },
  {
   "cell_type": "code",
   "execution_count": 16,
   "id": "e1acd332",
   "metadata": {},
   "outputs": [],
   "source": [
    "df_personal_excel = pd.read_excel(\"personal.xlsx\", index_col=0)"
   ]
  },
  {
   "cell_type": "code",
   "execution_count": 17,
   "id": "5fe865be",
   "metadata": {},
   "outputs": [
    {
     "data": {
      "text/html": [
       "<div>\n",
       "<style scoped>\n",
       "    .dataframe tbody tr th:only-of-type {\n",
       "        vertical-align: middle;\n",
       "    }\n",
       "\n",
       "    .dataframe tbody tr th {\n",
       "        vertical-align: top;\n",
       "    }\n",
       "\n",
       "    .dataframe thead th {\n",
       "        text-align: right;\n",
       "    }\n",
       "</style>\n",
       "<table border=\"1\" class=\"dataframe\">\n",
       "  <thead>\n",
       "    <tr style=\"text-align: right;\">\n",
       "      <th></th>\n",
       "      <th>workers</th>\n",
       "    </tr>\n",
       "  </thead>\n",
       "  <tbody>\n",
       "    <tr>\n",
       "      <th>0</th>\n",
       "      <td>{'nombre': 'Ana', 'edad': 34, 'experiencia': 5...</td>\n",
       "    </tr>\n",
       "    <tr>\n",
       "      <th>1</th>\n",
       "      <td>{'nombre': 'Eva', 'edad': 37, 'experiencia': 2...</td>\n",
       "    </tr>\n",
       "    <tr>\n",
       "      <th>2</th>\n",
       "      <td>{'nombre': 'Marta', 'edad': 27, 'experiencia':...</td>\n",
       "    </tr>\n",
       "    <tr>\n",
       "      <th>3</th>\n",
       "      <td>{'nombre': 'Paula', 'edad': 30, 'experiencia':...</td>\n",
       "    </tr>\n",
       "  </tbody>\n",
       "</table>\n",
       "</div>"
      ],
      "text/plain": [
       "                                             workers\n",
       "0  {'nombre': 'Ana', 'edad': 34, 'experiencia': 5...\n",
       "1  {'nombre': 'Eva', 'edad': 37, 'experiencia': 2...\n",
       "2  {'nombre': 'Marta', 'edad': 27, 'experiencia':...\n",
       "3  {'nombre': 'Paula', 'edad': 30, 'experiencia':..."
      ]
     },
     "execution_count": 17,
     "metadata": {},
     "output_type": "execute_result"
    }
   ],
   "source": [
    "df_personal_excel"
   ]
  },
  {
   "cell_type": "code",
   "execution_count": 21,
   "id": "160ecb8c",
   "metadata": {},
   "outputs": [],
   "source": [
    "df.to_csv(\"files/personal.csv\")\n"
   ]
  },
  {
   "cell_type": "code",
   "execution_count": 26,
   "id": "60218285",
   "metadata": {},
   "outputs": [],
   "source": [
    "import json\n",
    "\n",
    "with open('personal.json', 'r') as f:\n",
    "    personal = json.load(f)\n",
    "\n",
    "with open('personal.json', 'w') as f:\n",
    "    json.dump(personal,f,indent=4)"
   ]
  },
  {
   "cell_type": "code",
   "execution_count": null,
   "id": "2a7d4afc",
   "metadata": {},
   "outputs": [
    {
     "data": {
      "text/plain": [
       "dict_keys(['workers'])"
      ]
     },
     "execution_count": 46,
     "metadata": {},
     "output_type": "execute_result"
    }
   ],
   "source": [
    "personal.keys() #buscar la key"
   ]
  },
  {
   "cell_type": "code",
   "execution_count": 38,
   "id": "48f2ce5f",
   "metadata": {},
   "outputs": [
    {
     "name": "stdout",
     "output_type": "stream",
     "text": [
      "                                             workers\n",
      "0  [{'nombre': 'Ana', 'edad': 34, 'experiencia': ...\n"
     ]
    }
   ],
   "source": [
    "print(df)"
   ]
  },
  {
   "cell_type": "code",
   "execution_count": null,
   "id": "a5b8b9a7",
   "metadata": {},
   "outputs": [],
   "source": [
    "df = pd.json_normalize(personal['workers']) #como hay una lista dentro del diccionario, hay que acceder con la key['']"
   ]
  },
  {
   "cell_type": "code",
   "execution_count": 48,
   "id": "29c75097",
   "metadata": {},
   "outputs": [
    {
     "name": "stdout",
     "output_type": "stream",
     "text": [
      "  nombre  edad  experiencia   nivel  salario mascota\n",
      "0    Ana    34            5  Senior    50000   gatos\n",
      "1    Eva    37            2     Mid    35000     NaN\n",
      "2  Marta    27            1  Junior    25000     NaN\n",
      "3  Paula    30            3     Mid    35000     NaN\n"
     ]
    }
   ],
   "source": [
    "print(df)"
   ]
  }
 ],
 "metadata": {
  "kernelspec": {
   "display_name": "base",
   "language": "python",
   "name": "python3"
  },
  "language_info": {
   "codemirror_mode": {
    "name": "ipython",
    "version": 3
   },
   "file_extension": ".py",
   "mimetype": "text/x-python",
   "name": "python",
   "nbconvert_exporter": "python",
   "pygments_lexer": "ipython3",
   "version": "3.12.7"
  }
 },
 "nbformat": 4,
 "nbformat_minor": 5
}
